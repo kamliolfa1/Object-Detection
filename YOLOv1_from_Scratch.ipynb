{
  "nbformat": 4,
  "nbformat_minor": 0,
  "metadata": {
    "accelerator": "TPU",
    "colab": {
      "name": "YOLOv1 from Scratch.ipynb",
      "provenance": [],
      "collapsed_sections": []
    },
    "kernelspec": {
      "display_name": "Python 3",
      "name": "python3"
    },
    "language_info": {
      "name": "python"
    }
  },
  "cells": [
    {
      "cell_type": "markdown",
      "metadata": {
        "id": "OaU39yrhB3_X"
      },
      "source": [
        "#### Architecture YOLO_V1\n"
      ]
    },
    {
      "cell_type": "code",
      "metadata": {
        "id": "SOLHNNFqjTRv"
      },
      "source": [
        "import tensorflow as tf \n",
        "from tensorflow import keras \n",
        "from tensorflow.keras import layers\n",
        "import numpy as np"
      ],
      "execution_count": 2,
      "outputs": []
    },
    {
      "cell_type": "code",
      "metadata": {
        "id": "WuiRGP58cnpl"
      },
      "source": [
        "architecture_config = [\n",
        "    (7, 64, 2, 3),\n",
        "    \"M\",\n",
        "    (3, 192, 1, 1),\n",
        "    \"M\",\n",
        "    (1, 128, 1, 0),\n",
        "    (3, 256, 1, 1),\n",
        "    (1, 256, 1, 0),\n",
        "    (3, 512, 1, 1),\n",
        "    \"M\",\n",
        "    [(1, 256, 1, 0), (3, 512, 1, 1), 4],\n",
        "    (1, 512, 1, 0),\n",
        "    (3, 1024, 1, 1),\n",
        "    \"M\",\n",
        "    [(1, 512, 1, 0), (3, 1024, 1, 1), 2],\n",
        "    (3, 1024, 1, 1),\n",
        "    (3, 1024, 2, 1),\n",
        "    (3, 1024, 1, 1),\n",
        "    (3, 1024, 1, 1),\n",
        "]"
      ],
      "execution_count": 3,
      "outputs": []
    },
    {
      "cell_type": "code",
      "metadata": {
        "id": "qDzsXiut7uQI"
      },
      "source": [
        "#block_model = CNNBlock(in_channels=2)\n",
        "#x = tf.random.uniform(shape=(2,224,224,3))\n",
        "#y = block_model(x)"
      ],
      "execution_count": 4,
      "outputs": []
    },
    {
      "cell_type": "code",
      "metadata": {
        "id": "mSa_2wSeHC5f"
      },
      "source": [
        "#block_model.summary()"
      ],
      "execution_count": 5,
      "outputs": []
    },
    {
      "cell_type": "code",
      "metadata": {
        "id": "ZR4H1oCSA-xD"
      },
      "source": [
        "class YOLO1(keras.Model):\n",
        "  def __init__(self,split_size,num_boxes,num_classes, in_channels=3):\n",
        "    super(YOLO1,self).__init__()\n",
        "    self.S = split_size\n",
        "    self.B = num_boxes\n",
        "    self.C = num_classes\n",
        "    output = (self.S)*(self.S)*((self.C)+(self.B)*5)\n",
        "    self.architecture=architecture_config\n",
        "    self.in_channels = in_channels\n",
        "    self.darknet =self.create_conv_layers(self.architecture)\n",
        "    self.fl = layers.Flatten()\n",
        "    self.linear1 = layers.Dense(49)\n",
        "    self.drp=layers.Dropout(0.1)\n",
        "    self.lr = layers.LeakyReLU(0.1)\n",
        "    self.linear2 = layers.Dense(output)\n",
        "\n",
        "  def call(self,input_tensor):\n",
        "    input_tensor1=tf.convert_to_tensor(input_tensor, dtype=tf.float32)\n",
        "    input_tensor1 = self.darknet(input_tensor1) \n",
        "    input_tensor1 = self.fl(input_tensor1)\n",
        "    input_tensor1 = self.linear1(input_tensor1)\n",
        "    input_tensor1 = self.drp(input_tensor1)\n",
        "    input_tensor1 = self.lr(input_tensor1)\n",
        "    input_tensor1 = self.linear2(input_tensor1)    \n",
        "\n",
        "    return input_tensor1\n",
        "\n",
        "\n",
        "  def create_conv_layers(self,architecture):\n",
        "    lyr =[]\n",
        "    in_channels = self.in_channels\n",
        "\n",
        "    for x in (architecture):\n",
        "      if type(x)==tuple:\n",
        "        lyr.append(layers.Conv2D(in_channels,kernel_size=(x[0],x[0]),\n",
        "                                strides=(x[2],x[2]),\n",
        "                                activation=tf.keras.layers.LeakyReLU(alpha=0.1)))\n",
        "        lyr.append(layers.BatchNormalization())\n",
        "        lyr.append(layers.ZeroPadding2D(padding=(x[3],x[3])))\n",
        "\n",
        "        in_channels = x[1]\n",
        "#        print(len(lyr))\n",
        "      if type(x)==str:\n",
        "        lyr.append(layers.MaxPooling2D(pool_size=2, strides=(1,1)))\n",
        "#        print(len(lyr))\n",
        "      if type(x)==list:\n",
        "        conv1 = x[0]\n",
        "        conv2 = x[1]\n",
        "        num_rep = x[2]\n",
        "        for _ in range(num_rep):\n",
        "          lyr.append(layers.Conv2D(in_channels, kernel_size=conv1[0],strides=(conv1[2],conv1[2]),\n",
        "                                   activation=tf.keras.layers.LeakyReLU(alpha=0.1)))\n",
        "          lyr.append(layers.BatchNormalization())\n",
        "\n",
        "          in_channels = conv1[1]\n",
        "          lyr.append(layers.Conv2D(conv1[1],kernel_size=conv2[0], strides=(conv2[2],conv1[2]),\n",
        "                                   activation=tf.keras.layers.LeakyReLU(alpha=0.1)))\n",
        "          lyr.append(layers.BatchNormalization())\n",
        "          lyr.append(layers.ZeroPadding2D(padding=(conv2[3],conv2[3])))\n",
        "\n",
        "          in_channels = conv2[1]\n",
        "#          print(len(lyr))\n",
        "    return keras.Sequential(lyr)"
      ],
      "execution_count": 6,
      "outputs": []
    },
    {
      "cell_type": "code",
      "metadata": {
        "colab": {
          "base_uri": "https://localhost:8080/"
        },
        "id": "jv9yNoRiw1En",
        "outputId": "e2b33fd8-5bba-48b1-aa41-4d7002e709f8"
      },
      "source": [
        "S=7\n",
        "B=2\n",
        "C=20\n",
        "model = YOLO1(in_channels=3, split_size=S,num_boxes=B,num_classes=C)\n",
        "inputs = tf.random.uniform(shape=(2,448,448,3))\n",
        "inputs=tf.convert_to_tensor(inputs, dtype=tf.float32)\n",
        "y = model(inputs)\n",
        "print(y.shape)\n",
        "# S*S*(C+(B*5)"
      ],
      "execution_count": 7,
      "outputs": [
        {
          "output_type": "stream",
          "text": [
            "(2, 1470)\n"
          ],
          "name": "stdout"
        }
      ]
    },
    {
      "cell_type": "code",
      "metadata": {
        "id": "IjcpPaaVgq4G"
      },
      "source": [
        "#We can also use this block instead of using Conv2D with LeakyRelu Activation function and the Normalization\n",
        "class CNNBlock(keras.Model):\n",
        "  def __init__(self,in_channels,pad=(0,0), **kwargs):\n",
        "    super(CNNBlock,self).__init__()\n",
        "    self.conv =layers.Conv2D(in_channels,use_bias=False,**kwargs)\n",
        "    self.batchnorm= layers.BatchNormalization()\n",
        "    self.padding = layers.ZeroPadding2D(padding=(pad,pad)) \n",
        "    self.rl = layers.LeakyReLU(0.1)\n",
        "\n",
        "  def call(self,x):\n",
        "    x = self.padding(self.conv(x))\n",
        "    x = self.rl(x)\n",
        "    x = self.batchnorm(x)\n",
        "    return "
      ],
      "execution_count": 8,
      "outputs": []
    },
    {
      "cell_type": "code",
      "metadata": {
        "id": "0M-9iqU399mv",
        "colab": {
          "base_uri": "https://localhost:8080/"
        },
        "outputId": "a7a05509-d398-4e2a-f3cb-b461546a74b4"
      },
      "source": [
        "model.summary()"
      ],
      "execution_count": 9,
      "outputs": [
        {
          "output_type": "stream",
          "text": [
            "Model: \"yol_o1\"\n",
            "_________________________________________________________________\n",
            "Layer (type)                 Output Shape              Param #   \n",
            "=================================================================\n",
            "sequential (Sequential)      (2, 113, 113, 1024)       36408840  \n",
            "_________________________________________________________________\n",
            "flatten (Flatten)            multiple                  0         \n",
            "_________________________________________________________________\n",
            "dense (Dense)                multiple                  640697393 \n",
            "_________________________________________________________________\n",
            "dropout (Dropout)            multiple                  0         \n",
            "_________________________________________________________________\n",
            "leaky_re_lu_12 (LeakyReLU)   multiple                  0         \n",
            "_________________________________________________________________\n",
            "dense_1 (Dense)              multiple                  73500     \n",
            "=================================================================\n",
            "Total params: 677,179,733\n",
            "Trainable params: 677,167,695\n",
            "Non-trainable params: 12,038\n",
            "_________________________________________________________________\n"
          ],
          "name": "stdout"
        }
      ]
    },
    {
      "cell_type": "markdown",
      "metadata": {
        "id": "i55Fb1Qf_3Dh"
      },
      "source": [
        "#### IntersectionOverUnion"
      ]
    },
    {
      "cell_type": "code",
      "metadata": {
        "id": "tbnjmNgX_-7f"
      },
      "source": [
        "import tensorflow as tf\n",
        "def Intersection_Over_Union(boxes_preds, boxes_labels, box_format=\"mid_point\"):\n",
        "#  if box_format ==\"mid_point\":\n",
        "  if box_format ==\"mid_point\":\n",
        "    box1_x1 = boxes_preds[..., 0:1] - boxes_preds[..., 2:3] / 2\n",
        "    box1_y1 = boxes_preds[..., 1:2] - boxes_preds[..., 3:4] / 2\n",
        "    box1_x2 = boxes_preds[..., 0:1] + boxes_preds[..., 2:3] / 2\n",
        "    box1_y2 = boxes_preds[..., 1:2] + boxes_preds[..., 3:4] / 2\n",
        "    box2_x1 = boxes_labels[..., 0:1] - boxes_labels[..., 2:3] / 2\n",
        "    box2_y1 = boxes_labels[..., 1:2] - boxes_labels[..., 3:4] / 2\n",
        "    box2_x2 = boxes_labels[..., 0:1] + boxes_labels[..., 2:3] / 2\n",
        "    box2_y2 = boxes_labels[..., 1:2] + boxes_labels[..., 3:4] / 2\n",
        "\n",
        "  if box_format ==\"corners\":\n",
        "    # shape(N,4)\n",
        "    \n",
        "    box1_x1 = boxes_preds[...,0:1]\n",
        "    box1_y1 = boxes_preds[...,1:2]\n",
        "    box1_x2 = boxes_preds[...,2:3]\n",
        "    box1_y2 = boxes_preds[...,3:4]\n",
        "\n",
        "    box2_x1 = boxes_labels[...,0:1]\n",
        "    box2_y1 = boxes_labels[...,1:2]\n",
        "    box2_x2 = boxes_labels[...,2:3]\n",
        "    box2_y2 = boxes_labels[...,3:4]\n",
        "\n",
        "  \n",
        "  x1=tf.math.maximum(box1_x1,box2_x1)\n",
        "  y1=tf.math.maximum(box1_y1,box2_y1)\n",
        "  x2=tf.math.minimum(box1_x2,box2_x2)\n",
        "  y2=tf.math.minimum(box1_y2,box2_y2)\n",
        "\n",
        "  Inter = (tf.clip_by_value((x2-x1),clip_value_min=0,clip_value_max=512)) *(tf.clip_by_value((y2-y1),clip_value_min=0,clip_value_max=512))\n",
        "\n",
        "  box1_area = (abs(box1_x2 -box1_x1))*(abs(box1_y2-box1_y1))\n",
        "  box2_area = (abs(box2_x2 -box2_x1))*(abs(box2_y2-box2_y1))\n",
        "  Union = (box1_area + box2_area) - Inter\n",
        "\n",
        "  return (Inter / (Union + 1e-6))  \n"
      ],
      "execution_count": 10,
      "outputs": []
    },
    {
      "cell_type": "code",
      "metadata": {
        "id": "y8w27Cm4_--Z"
      },
      "source": [
        "boxes_preds=[[39, 63, 203, 112], \n",
        "             [49, 75, 203, 125], \n",
        "             [31, 69, 201, 125], \n",
        "             [50, 72, 197, 121], \n",
        "             [35, 51, 196, 110]],\n",
        "\n",
        "boxes_labels = [[54, 66, 198, 114],\n",
        "                [42, 78, 186, 126],\n",
        "                [18, 63, 235, 135],\n",
        "                [54, 72, 198, 120],\n",
        "                [36, 60, 180, 108]]"
      ],
      "execution_count": 11,
      "outputs": []
    },
    {
      "cell_type": "code",
      "metadata": {
        "id": "tSuCmUG0__BC"
      },
      "source": [
        "boxes_preds =tf.convert_to_tensor(boxes_preds, dtype=tf.float32)\n",
        "boxes_labels =tf.convert_to_tensor(boxes_labels, dtype=tf.float32)\n"
      ],
      "execution_count": 12,
      "outputs": []
    },
    {
      "cell_type": "code",
      "metadata": {
        "id": "O9gmLNMVr4c9",
        "colab": {
          "base_uri": "https://localhost:8080/"
        },
        "outputId": "97e310e0-0acf-4cbe-e07b-47405c5625bb"
      },
      "source": [
        "Intersection_Over_Union(boxes_preds,boxes_labels)"
      ],
      "execution_count": 13,
      "outputs": [
        {
          "output_type": "execute_result",
          "data": {
            "text/plain": [
              "<tf.Tensor: shape=(1, 5, 1), dtype=float32, numpy=\n",
              "array([[[0.8193792 ],\n",
              "        [0.8754707 ],\n",
              "        [0.7806803 ],\n",
              "        [0.95253724],\n",
              "        [0.7826087 ]]], dtype=float32)>"
            ]
          },
          "metadata": {
            "tags": []
          },
          "execution_count": 13
        }
      ]
    },
    {
      "cell_type": "markdown",
      "metadata": {
        "id": "QoNTIVUFB-ti"
      },
      "source": [
        "#### LOSS Function"
      ]
    },
    {
      "cell_type": "code",
      "metadata": {
        "id": "xU-YVF-zCKeh"
      },
      "source": [
        "import tensorflow as tf\n",
        "import numpy as np\n",
        "from tensorflow import keras\n",
        "from tensorflow.keras import layers\n",
        "from tensorflow.keras import metrics\n",
        "# tf.keras.metrics.MeanIoU"
      ],
      "execution_count": 65,
      "outputs": []
    },
    {
      "cell_type": "code",
      "metadata": {
        "id": "2mHeygLsErwy"
      },
      "source": [
        "class YoloLoss(keras.Model):\n",
        "    def __init__(self, S=7, B=2, C=20):\n",
        "        super(YoloLoss, self).__init__()\n",
        "        self.mse = tf.keras.losses.MeanSquaredError(reduction=\"sum\")\n",
        "        self.S = S\n",
        "        self.B = B\n",
        "        self.C = C\n",
        "        # These are from Yolo paper, signifying how much we should\n",
        "        # pay loss for no object (noobj) and the box coordinates (coord)\n",
        "        self.lambda_noobj = 0.5\n",
        "        self.lambda_coord = 5\n",
        "\n",
        "    def call(self, predictions, target):\n",
        "        # predictions are shaped (BATCH_SIZE, S*S(C+B*5) when inputted\n",
        "        predictions = tf.reshape(predictions,(-1, self.S, self.S, self.C + self.B * 5))\n",
        "\n",
        "        # Calculate IoU for the two predicted bounding boxes with target bbox\n",
        "        iou_b1 = Intersection_Over_Union(predictions[..., 21:25], target[..., 21:25])\n",
        "        iou_b2 = Intersection_Over_Union(predictions[..., 26:30], target[..., 21:25])\n",
        "        ious = tf.concat([tf.expand_dims(iou_b1, 0), tf.expand_dims(iou_b2, 0)], axis=0)\n",
        "\n",
        "        iou_maxes = tf.reduce_max(ious)\n",
        "        bestbox = tf.argmax(ious, 0)\n",
        "        #print(\"BEST-BOX:  \", bestbox.shape)\n",
        "        exists_box = tf.squeeze(target[..., 20])  # in paper this is Iobj_i\n",
        "        bestbox = tf.cast(bestbox, tf.float32)\n",
        "\n",
        "        #print(\"BEST-BOX:  \", bestbox.shape)\n",
        "        #print(\"predictions[26:30]:  \", predictions[..., 26:30].shape)\n",
        "        #print(\"predictions[21:25]:  \", predictions[..., 21:25].shape)\n",
        "\n",
        "        # ======================== #\n",
        "        #   FOR BOX COORDINATES    #\n",
        "        # ======================== #\n",
        "\n",
        "        #print(\"bestbox:  \", bestbox.shape)\n",
        "        #print(\"exists_box:  \", exists_box.shape)\n",
        "        exists_box1 = tf.expand_dims(exists_box,-1)   \n",
        "        #print(\"exists_box:  \", exists_box1.shape)\n",
        "        #print(\"bestbox1:  \", bestbox1.shape)\n",
        "        # predictions, which is the one with highest Iou calculated previously.\n",
        "        #pred1 = predictions[..., 26:30]\n",
        "        #pred2 = predictions[..., 21:25]\n",
        "\n",
        "        box_predictions = exists_box1 * ((bestbox * predictions[..., 26:30] + (1 - bestbox) * predictions[..., 21:25]))\n",
        "        box_targets = exists_box1 * target[..., 21:25]\n",
        "        #box11 = tf.math.sign(box_predictions[..., 2:4])\n",
        "        #box12 = tf.math.abs(box_predictions[..., 2:4])\n",
        "        #box21 = tf.math.sqrt(box12 + 1e-6)\n",
        "        #tensor1 = box_predictions    # tf.rank(tensor) == 1\n",
        "        #indices1 = [[[[2],[4]]]]      \n",
        "        # num_updates == 4, index_depth == 1\n",
        "        #updates1 = (tf.math.sign(box_predictions[..., 2:4])) * (tf.math.abs(box_predictions[..., 2:4]))           \n",
        "        # num_updates == 4\n",
        "        #tf.tensor_scatter_nd_update(tensor1, indices1, updates1) \n",
        "        box_predictions_np = box_predictions.numpy()\n",
        "        box_predictions_np[..., 2:4] = (tf.math.sign(box_predictions[..., 2:4])) * (tf.math.abs(box_predictions[..., 2:4]))\n",
        "        box_predictions = tf.convert_to_tensor(box_predictions_np, dtype=tf.float32)\n",
        "        #tensor2 = box_targets\n",
        "        #indices2 = [..., 2:4]       # num_updates == 4, index_depth == 1\n",
        "        #updates1 = tf.math.sqrt(box_targets[..., 2:4])            # num_updates == 4\n",
        "        #tf.tensor_scatter_nd_update(tensor2, indices2, updates2) \n",
        "        box_targets_np = box_targets.numpy()\n",
        "        box_targets_np[..., 2:4] = tf.math.sqrt(box_targets[..., 2:4])\n",
        "        box_targets = tf.convert_to_tensor(box_targets_np, dtype=tf.float32)\n",
        "        \n",
        "        N = box_predictions.shape[0]\n",
        "        box_loss = self.mse(\n",
        "            tf.reshape(box_predictions, shape=(N*S*S,4)),\n",
        "            tf.reshape(box_targets, shape=(N*S*S,4)),)\n",
        "\n",
        "        # ==================== #\n",
        "        #   FOR OBJECT LOSS    #\n",
        "        # ==================== #\n",
        "\n",
        "        # pred_box is the confidence score for the bbox with highest IoU\n",
        "        #pred3 = predictions[..., 25:26]\n",
        "        #pred4 = predictions[..., 20:21]\n",
        "        pred_box = (bestbox * predictions[..., 25:26] + (1 - bestbox) * predictions[..., 20:21])\n",
        "\n",
        "        f00 = (exists_box1 * pred_box)\n",
        "        f01 = (exists_box1 * target[..., 20:21])\n",
        "        object_loss = self.mse(\n",
        "            tf.reshape(f00,shape=(N*S*S,1)),\n",
        "            tf.reshape(f01,shape=(N*S*S,1)),\n",
        "        )\n",
        "\n",
        "        # ======================= #\n",
        "        #   FOR NO OBJECT LOSS    #\n",
        "        # ======================= #\n",
        "\n",
        "        #max_no_obj = torch.max(predictions[..., 20:21], predictions[..., 25:26])\n",
        "        #no_object_loss = self.mse(\n",
        "        #    torch.flatten((1 - exists_box1) * max_no_obj, start_dim=1),\n",
        "        #    torch.flatten((1 - exists_box1) * target[..., 20:21], start_dim=1),\n",
        "        #)\n",
        "        fl1 = (1 - exists_box1) * predictions[..., 20:21]\n",
        "        fl2 = (1 - exists_box1) * target[..., 20:21]\n",
        "        B1 = fl1.shape[3]        \n",
        "        B2 = fl2.shape[3]\n",
        "        no_object_loss = self.mse(\n",
        "            tf.reshape(fl1, shape=(N*S*S,B1)),\n",
        "            tf.reshape(fl2, shape=(N*S*S,B2)),\n",
        "        )\n",
        "        box01 = (1 - exists_box1) * predictions[..., 25:26]\n",
        "        box11 = (1 - exists_box1) * target[..., 20:21]\n",
        "        no_object_loss += self.mse(\n",
        "            tf.reshape(box01,shape=(N*S*S,B1)),\n",
        "            tf.reshape(box11,shape=(N*S*S,B2))\n",
        "        )\n",
        "\n",
        "        # ================== #\n",
        "        #   FOR CLASS LOSS   #\n",
        "        # ================== #\n",
        "        fl3 = exists_box1 * predictions[..., :20]\n",
        "        fl4 = exists_box1 * target[..., :20]\n",
        "        B3 = fl3.shape[3]        \n",
        "        B4 = fl4.shape[3]\n",
        "        class_loss = self.mse(\n",
        "            tf.reshape(fl3, shape=(N*S*S,B3)),\n",
        "            tf.reshape(fl4, shape=(N*S*S,B4),\n",
        "        ))\n",
        "\n",
        "        loss = (\n",
        "            self.lambda_coord * box_loss  # first two rows in paper\n",
        "            + \n",
        "            object_loss  # third row in paper\n",
        "            + self.lambda_noobj * no_object_loss  # forth row\n",
        "            + class_loss  # fifth row\n",
        "        )\n",
        "\n",
        "        return loss"
      ],
      "execution_count": 119,
      "outputs": []
    },
    {
      "cell_type": "code",
      "metadata": {
        "id": "a2sNnVvay2WN"
      },
      "source": [
        "predictions = y"
      ],
      "execution_count": 120,
      "outputs": []
    },
    {
      "cell_type": "code",
      "metadata": {
        "id": "h67I-EH9CHXq"
      },
      "source": [
        "target = tf.random.uniform((2,7,7,25))"
      ],
      "execution_count": 121,
      "outputs": []
    },
    {
      "cell_type": "code",
      "metadata": {
        "colab": {
          "base_uri": "https://localhost:8080/"
        },
        "id": "AgIce_ylhQHf",
        "outputId": "40c9f145-4eb2-4af6-9d74-3bd2b89e5939"
      },
      "source": [
        "target[...,2:4].shape"
      ],
      "execution_count": 122,
      "outputs": [
        {
          "output_type": "execute_result",
          "data": {
            "text/plain": [
              "TensorShape([2, 7, 7, 2])"
            ]
          },
          "metadata": {
            "tags": []
          },
          "execution_count": 122
        }
      ]
    },
    {
      "cell_type": "code",
      "metadata": {
        "colab": {
          "base_uri": "https://localhost:8080/"
        },
        "id": "ZNxwWlvfhYHt",
        "outputId": "c663c099-01f6-436d-c1b7-fdfcce5e8a8c"
      },
      "source": [
        "target.shape"
      ],
      "execution_count": 123,
      "outputs": [
        {
          "output_type": "execute_result",
          "data": {
            "text/plain": [
              "TensorShape([2, 7, 7, 25])"
            ]
          },
          "metadata": {
            "tags": []
          },
          "execution_count": 123
        }
      ]
    },
    {
      "cell_type": "code",
      "metadata": {
        "id": "jVVtmhI_CHaz"
      },
      "source": [
        "LossF = YoloLoss()"
      ],
      "execution_count": 124,
      "outputs": []
    },
    {
      "cell_type": "code",
      "metadata": {
        "id": "kHqD8x9BlN9M"
      },
      "source": [
        "target = tf.cast(target, tf.float32)\n",
        "predictions = tf.cast(predictions, tf.float32)\n"
      ],
      "execution_count": 125,
      "outputs": []
    },
    {
      "cell_type": "code",
      "metadata": {
        "id": "tL8AD43bCHdw"
      },
      "source": [
        "c = LossF(predictions, target)"
      ],
      "execution_count": 126,
      "outputs": []
    },
    {
      "cell_type": "code",
      "metadata": {
        "colab": {
          "base_uri": "https://localhost:8080/"
        },
        "id": "Dy4oc75FBjR8",
        "outputId": "dfa62c52-a008-446e-8f36-2ce4207707a0"
      },
      "source": [
        "print(c)"
      ],
      "execution_count": 127,
      "outputs": [
        {
          "output_type": "stream",
          "text": [
            "tf.Tensor(119.14648, shape=(), dtype=float32)\n"
          ],
          "name": "stdout"
        }
      ]
    }
  ]
}